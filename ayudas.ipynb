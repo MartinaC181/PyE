{
 "cells": [
  {
   "cell_type": "code",
   "execution_count": 10,
   "metadata": {},
   "outputs": [],
   "source": [
    "import numpy as np\n",
    "import os \n",
    "# recuerden que pueden usar comandos de 'os' para moverse y listar directorios y archivos\n",
    "# print(os.getcwd())\n",
    "# print(os.listdir())"
   ]
  },
  {
   "cell_type": "code",
   "execution_count": 9,
   "metadata": {},
   "outputs": [
    {
     "name": "stdout",
     "output_type": "stream",
     "text": [
      "===> Alturas\n",
      "(7,)\n",
      "===> Pesos\n",
      "1\n",
      "[[ 1.73  1.68  1.71  1.89  1.79  1.76  1.67]\n",
      " [65.4  59.2  63.6  88.4  68.7  89.7  73.2 ]]\n"
     ]
    }
   ],
   "source": [
    "\n",
    "#Para inspeccionar y ver las dimensiones de un array, \n",
    "# podemos mirar su *forma* (```np_array.shape```). *Shape* es un atributo o propiedad de un array.\n",
    "\n",
    "# altura en metros de personas\n",
    "alturas = [1.73, 1.68, 1.71, 1.89, 1.79, 1.76, 1.67]\n",
    "# peso en Kg de personas\n",
    "pesos = [65.4, 59.2, 63.6, 88.4, 68.7, 89.7, 73.2]\n",
    "\n",
    "np_alturas = np.array(alturas)\n",
    "np_pesos   = np.array(pesos)\n",
    "\n",
    "# veamos algunos datos y propiedades de estos objetos\n",
    "print(\"===> Alturas\")\n",
    "#print(type(np_alturas))\n",
    "print(np_alturas.shape) # 7 elementos y 1 dimensión\n",
    "\n",
    "#También podemos usar **.ndim** para saber la dimensión\n",
    "print(\"===> Pesos\")\n",
    "print(np_alturas.ndim)\n",
    "\n",
    "#Arrays de dos dimensiones\n",
    "numpy_2d = np.array([ alturas, pesos ])\n",
    "print(numpy_2d)\n"
   ]
  },
  {
   "cell_type": "code",
   "execution_count": null,
   "metadata": {},
   "outputs": [],
   "source": [
    "#ESTADISTICA BASICA CON NUMPY\n",
    "\n",
    "# la media o promedio\n",
    "bmi.mean()\n",
    "\n",
    "# el valor minimo \n",
    "bmi.min()\n",
    "\n",
    "# el valor maximo \n",
    "bmi.max()\n",
    "\n",
    "# la mediana es un metodo numpy\n",
    "np.median(bmi)"
   ]
  },
  {
   "cell_type": "code",
   "execution_count": 39,
   "metadata": {},
   "outputs": [
    {
     "name": "stdout",
     "output_type": "stream",
     "text": [
      "c:\\Users\\Martina\\Videos\\Diplomatura Ciencia de Datos e Inteligencia Artificial\\Modulo 1\\Archivos\n",
      "['1 EjerciciosSemana1.ipynb', '1 EjerciciosSemana1_Resueltos.ipynb', '1 Semana1.ipynb', '1 Semana1_Introduccion.pdf', '10 Semana10_ClasesObjetos.ipynb', '10 Semana10_ClasesObjetos.pdf', '10 Semana10_ClasesObjetos_Resueltos.ipynb', '3 EjerciciosSemana3.ipynb', '3 EjerciciosSemana3_Resueltos.ipynb', '3 Semana3_Elementos.ipynb', '3 Semana3_Elementos_actualizado.ipynb', '4 EjerciciosSemana4.ipynb', '4 EjerciciosSemana4_Resueltos.ipynb', '4 Semana4_ejemplos_en_clase.ipynb', '4 Semana4_Estructuras.ipynb', '5 Ejemplos_Semana5_Clases.ipynb', '5 EjerciciosSemana5.ipynb', '5 EjerciciosSemana5_Resueltos.ipynb', '5 Semana5.ipynb', '6 EjerciciosSemanas6y7.ipynb', '6 EjerciciosSemanas6y7_Resuelto.ipynb', '6 Semana_6_intro_numpy.ipynb', '7 Semana7_Funciones.ipynb', '8 EjerciciosSemana8.ipynb', '8 EjerciciosSemana8_Resuelto.ipynb', '8 Semana8_Pandas.ipynb', '8 Semana8_Pandas_resuelto.ipynb', '9 EjerciciosSemana9.ipynb', '9 EjerciciosSemana9_Resueltos.ipynb', '9 Semana9-Algoritmos-Complejidad.pdf', '9 Semana9-Matplotlib.ipynb', '9 Semana9_algoritmos_complejidad_timing_profiling.ipynb', 'ansurMen.csv', 'ansurWomen.csv', 'arbolado-en-espacios-verdes.csv.zip', 'cer-uva-uvi-diarios.csv', 'Ejercicios-extra-numpy-sorting.ipynb', 'estaciones_metereologicas.csv', 'estimaciones-agricolas-PBA-1969-2022.csv', 'incendios-cantidad-causas-parques-nacionales_2022.csv', 'incendios-cantidad-causas-parques-nacionales_2022.txt', 'Informaciones.pdf', 'introduccion-curso.pdf', 'ManipulacionArchivos.pdf', 'matplotlib_fernan.pdf', 'muestra_poblacional.csv', 'portafolio_juan.csv', 'registro_temperatura365d_smn.csv', 'ResumenManipulacionArchivos-1.pdf', 'TablaContenedores.pdf']\n"
     ]
    }
   ],
   "source": [
    "#En este ejemplo, vamos a analizar una muestra poblacional de 5000 individuos (peso, altura).\n",
    "\n",
    "#Cambiando el directorio\n",
    "#os.chdir('/--/--/') \n",
    "\n",
    "print(os.getcwd())\n",
    "print(os.listdir())\n",
    "os.chdir('c:/Users/Martina/Videos/Diplomatura Ciencia de Datos e Inteligencia Artificial/Modulo 1/Archivos')\n",
    "\n"
   ]
  },
  {
   "cell_type": "code",
   "execution_count": null,
   "metadata": {},
   "outputs": [],
   "source": [
    "# leer datos con NumPy desde un archivo\n",
    "\n",
    "# NumPy tiene una función, llamada genfromtxt que genera un ndarray \n",
    "# a partir de datos en un archivo de texto \n",
    "\n",
    "poblacion = np.genfromtxt('muestra_poblacional.csv', delimiter=\",\")\n",
    "\n",
    "# calcular el promedio\n",
    "promedio_alt = np.mean(poblacion[:,0])\n",
    "print(promedio_alt)\n",
    "\n",
    "# calcular la mediana\n",
    "np.median(poblacion[:,0])\n",
    "\n",
    "# calcular el desvio\n",
    "np.std(poblacion[:,0])\n",
    "\n",
    "# ordenar los datos\n",
    "poblacion_ordenada = np.sort(poblacion[:,0])\n",
    "print(poblacion_ordenada)"
   ]
  }
 ],
 "metadata": {
  "kernelspec": {
   "display_name": "Python 3",
   "language": "python",
   "name": "python3"
  },
  "language_info": {
   "codemirror_mode": {
    "name": "ipython",
    "version": 3
   },
   "file_extension": ".py",
   "mimetype": "text/x-python",
   "name": "python",
   "nbconvert_exporter": "python",
   "pygments_lexer": "ipython3",
   "version": "3.11.6"
  }
 },
 "nbformat": 4,
 "nbformat_minor": 2
}
