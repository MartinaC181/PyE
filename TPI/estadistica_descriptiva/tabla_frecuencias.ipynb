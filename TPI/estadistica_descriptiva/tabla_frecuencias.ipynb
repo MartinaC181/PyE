{
 "cells": [
  {
   "cell_type": "markdown",
   "metadata": {},
   "source": [
    "## hay varias variables en tu dataset que podrían ser interesantes para el análisis estadístico:\n",
    "\n",
    "--imdb_rating: Tipo: Continua (calificaciones en decimales). Tabla de distribución de frecuencias: Crear clases (intervalos de calificaciones) y calcular frecuencias absolutas, relativas y acumuladas para analizar la distribución de las calificaciones.\n",
    "\n",
    "--imdb_votes: Representa el número de votos en IMDb para cada episodio. Esta variable es discreta, ya que los votos solo pueden ser números enteros. Podrías analizar su distribución para ver si algunos episodios han recibido significativamente más votos que otros.\n",
    "\n",
    "--us_viewers_in_millions: Muestra el número de espectadores en millones en EE. UU. También es una variable continua y podría ser interesante para entender cómo ha variado la audiencia a lo largo de los episodios. Podrías calcular medidas de tendencia central, dispersión, e intervalos de confianza para esta variable.\n",
    "\n",
    "--season: Indica la temporada a la que pertenece cada episodio. Esta variable es categórica pero se puede tratar como discreta si quieres analizar la cantidad de episodios por temporada o la variación de la audiencia o la calificación media por temporada.\n",
    "\n",
    "--views: Aunque no está claro de inmediato qué representa esta columna, si es la cantidad de veces que un episodio ha sido visto en otra plataforma, también podría usarse para explorar la popularidad relativa de los episodios."
   ]
  },
  {
   "cell_type": "code",
   "execution_count": 1,
   "metadata": {},
   "outputs": [],
   "source": [
    "import pandas as pd\n",
    "import numpy as np"
   ]
  },
  {
   "cell_type": "code",
   "execution_count": 6,
   "metadata": {},
   "outputs": [],
   "source": [
    "import pandas as pd\n"
   ]
  },
  {
   "cell_type": "code",
   "execution_count": null,
   "metadata": {},
   "outputs": [],
   "source": [
    "\n",
    "# Carga el archivo CSV en un dataframe de Pandas\n",
    "df = pd.read_csv('data\\simpsons_episodes.csv')\n",
    "# Imprime el dataframe\n",
    "print(df)"
   ]
  },
  {
   "cell_type": "code",
   "execution_count": null,
   "metadata": {},
   "outputs": [],
   "source": [
    "#TABLA DE DISTRIBUCIÓN DE FRECUENCIAS\n",
    "#imb_rating es una variable continua\n",
    "ratings = df['imdb_rating'].dropna()#borra las filas con valores nulos\n",
    "\n",
    "\n",
    "# Define el número de clases usando la fórmula de Sturges\n",
    "num_classes = int(1 + 3.322 * np.log10(len(ratings)))\n",
    "\n",
    "# Crea el histograma para obtener las frecuencias\n",
    "freq_abs, bins = np.histogram(ratings, bins=num_classes)\n",
    "freq_rel = freq_abs / len(ratings)  # Frecuencia relativa\n",
    "freq_cum = np.cumsum(freq_abs)       # Frecuencia acumulada\n",
    "\n",
    "\n",
    "# Tabla de frecuencias\n",
    "freq_table = pd.DataFrame({\n",
    "    'Clase': [f\"{round(bins[i], 2)} - {round(bins[i+1], 2)}\" for i in range(len(bins)-1)],\n",
    "    'Frecuencia Absoluta': freq_abs,\n",
    "    'Frecuencia Relativa': freq_rel,\n",
    "    'Frecuencia Acumulada': freq_cum\n",
    "})\n",
    "\n",
    "print(freq_table)"
   ]
  },
  {
   "cell_type": "code",
   "execution_count": null,
   "metadata": {},
   "outputs": [
    {
     "name": "stdout",
     "output_type": "stream",
     "text": [
      "         Clase  Frecuencia Absoluta  Frecuencia Relativa  Frecuencia Acumulada\n",
      "0    104 - 467                   72             0.120603                    72\n",
      "1    467 - 830                  289             0.484087                   361\n",
      "2   830 - 1193                  125             0.209380                   486\n",
      "3  1193 - 1556                   77             0.128978                   563\n",
      "4  1556 - 1919                   28             0.046901                   591\n",
      "5  1919 - 2282                    4             0.006700                   595\n",
      "6  2282 - 2645                    1             0.001675                   596\n",
      "7  2645 - 3008                    0             0.000000                   596\n",
      "8  3008 - 3371                    0             0.000000                   596\n",
      "9  3371 - 3734                    1             0.001675                   597\n"
     ]
    }
   ],
   "source": [
    "votes = df['imdb_votes'].dropna()\n",
    "\n",
    "\n",
    "# Define el número de clases usando la fórmula de Sturges\n",
    "num_classes = int(1 + 3.322 * np.log10(len(votes)))\n",
    "\n",
    "# Crea el histograma para obtener las frecuencias\n",
    "freq_abs, bins = np.histogram(votes, bins=num_classes)\n",
    "freq_rel = freq_abs / len(votes)  # Frecuencia relativa\n",
    "freq_cum = np.cumsum(freq_abs)     # Frecuencia acumulada\n",
    "\n",
    "# Tabla de frecuencias\n",
    "freq_table_votes = pd.DataFrame({\n",
    "    'Clase': [f\"{int(bins[i])} - {int(bins[i+1])}\" for i in range(len(bins)-1)],\n",
    "    'Frecuencia Absoluta': freq_abs,\n",
    "    'Frecuencia Relativa': freq_rel,\n",
    "    'Frecuencia Acumulada': freq_cum\n",
    "})\n",
    "\n",
    "print(freq_table_votes)"
   ]
  },
  {
   "cell_type": "code",
   "execution_count": null,
   "metadata": {},
   "outputs": [
    {
     "name": "stdout",
     "output_type": "stream",
     "text": [
      "           Clase  Frecuencia Absoluta  Frecuencia Relativa  \\\n",
      "0    2.32 - 5.45                   80             0.134680   \n",
      "1    5.45 - 8.58                  143             0.240741   \n",
      "2    8.58 - 11.7                  126             0.212121   \n",
      "3   11.7 - 14.83                   81             0.136364   \n",
      "4  14.83 - 17.96                   60             0.101010   \n",
      "5  17.96 - 21.09                   40             0.067340   \n",
      "6  21.09 - 24.22                   31             0.052189   \n",
      "7  24.22 - 27.34                   21             0.035354   \n",
      "8  27.34 - 30.47                    9             0.015152   \n",
      "9   30.47 - 33.6                    3             0.005051   \n",
      "\n",
      "   Frecuencia Acumulada  \n",
      "0                    80  \n",
      "1                   223  \n",
      "2                   349  \n",
      "3                   430  \n",
      "4                   490  \n",
      "5                   530  \n",
      "6                   561  \n",
      "7                   582  \n",
      "8                   591  \n",
      "9                   594  \n"
     ]
    }
   ],
   "source": [
    "viewers = df['us_viewers_in_millions'].dropna()\n",
    "\n",
    "# Define el número de clases usando la fórmula de Sturges\n",
    "num_classes = int(1 + 3.322 * np.log10(len(viewers)))\n",
    "\n",
    "# Crea el histograma para obtener las frecuencias\n",
    "freq_abs, bins = np.histogram(viewers, bins=num_classes)\n",
    "freq_rel = freq_abs / len(viewers)  # Frecuencia relativa\n",
    "freq_cum = np.cumsum(freq_abs)       # Frecuencia acumulada\n",
    "\n",
    "# Tabla de frecuencias\n",
    "freq_table_viewers = pd.DataFrame({\n",
    "    'Clase': [f\"{round(bins[i], 2)} - {round(bins[i+1], 2)}\" for i in range(len(bins)-1)],\n",
    "    'Frecuencia Absoluta': freq_abs,\n",
    "    'Frecuencia Relativa': freq_rel,\n",
    "    'Frecuencia Acumulada': freq_cum\n",
    "})\n",
    "\n",
    "print(freq_table_viewers)"
   ]
  },
  {
   "cell_type": "code",
   "execution_count": null,
   "metadata": {},
   "outputs": [
    {
     "name": "stdout",
     "output_type": "stream",
     "text": [
      "    Temporada  Frecuencia Absoluta  Frecuencia Relativa  Frecuencia Acumulada\n",
      "0           1                   13             0.021667                    13\n",
      "1           2                   22             0.036667                    35\n",
      "2           3                   24             0.040000                    59\n",
      "3           4                   22             0.036667                    81\n",
      "4           5                   22             0.036667                   103\n",
      "5           6                   25             0.041667                   128\n",
      "6           7                   25             0.041667                   153\n",
      "7           8                   25             0.041667                   178\n",
      "8           9                   25             0.041667                   203\n",
      "9          10                   23             0.038333                   226\n",
      "10         11                   22             0.036667                   248\n",
      "11         12                   21             0.035000                   269\n",
      "12         13                   22             0.036667                   291\n",
      "13         14                   22             0.036667                   313\n",
      "14         15                   22             0.036667                   335\n",
      "15         16                   21             0.035000                   356\n",
      "16         17                   22             0.036667                   378\n",
      "17         18                   22             0.036667                   400\n",
      "18         19                   20             0.033333                   420\n",
      "19         20                   21             0.035000                   441\n",
      "20         21                   23             0.038333                   464\n",
      "21         22                   22             0.036667                   486\n",
      "22         23                   22             0.036667                   508\n",
      "23         24                   22             0.036667                   530\n",
      "24         25                   22             0.036667                   552\n",
      "25         26                   22             0.036667                   574\n",
      "26         27                   22             0.036667                   596\n",
      "27         28                    4             0.006667                   600\n"
     ]
    }
   ],
   "source": [
    "seasons = df['season'].dropna()\n",
    "\n",
    "# Frecuencia absoluta: Cuenta el número de episodios por temporada\n",
    "freq_abs = seasons.value_counts().sort_index()\n",
    "\n",
    "# Frecuencia relativa: Proporción de episodios en cada temporada\n",
    "freq_rel = freq_abs / len(seasons)\n",
    "\n",
    "# Frecuencia acumulada\n",
    "freq_cum = freq_abs.cumsum()\n",
    "\n",
    "# Tabla de frecuencias\n",
    "freq_table_season = pd.DataFrame({\n",
    "    'Temporada': freq_abs.index,\n",
    "    'Frecuencia Absoluta': freq_abs.values,\n",
    "    'Frecuencia Relativa': freq_rel.values,\n",
    "    'Frecuencia Acumulada': freq_cum.values\n",
    "})\n",
    "\n",
    "print(freq_table_season)"
   ]
  },
  {
   "cell_type": "code",
   "execution_count": null,
   "metadata": {},
   "outputs": [
    {
     "name": "stdout",
     "output_type": "stream",
     "text": [
      "             Clase  Frecuencia Absoluta  Frecuencia Relativa  \\\n",
      "0      144 - 17270                   25             0.041946   \n",
      "1    17270 - 34396                   27             0.045302   \n",
      "2    34396 - 51523                  336             0.563758   \n",
      "3    51523 - 68649                  145             0.243289   \n",
      "4    68649 - 85776                   52             0.087248   \n",
      "5   85776 - 102902                    4             0.006711   \n",
      "6  102902 - 120028                    5             0.008389   \n",
      "7  120028 - 137155                    1             0.001678   \n",
      "8  137155 - 154281                    0             0.000000   \n",
      "9  154281 - 171408                    1             0.001678   \n",
      "\n",
      "   Frecuencia Acumulada  \n",
      "0                    25  \n",
      "1                    52  \n",
      "2                   388  \n",
      "3                   533  \n",
      "4                   585  \n",
      "5                   589  \n",
      "6                   594  \n",
      "7                   595  \n",
      "8                   595  \n",
      "9                   596  \n"
     ]
    }
   ],
   "source": [
    "views = df['views'].dropna()\n",
    "\n",
    "# Define el número de clases usando la fórmula de Sturges\n",
    "num_classes = int(1 + 3.322 * np.log10(len(views)))\n",
    "\n",
    "# Crea el histograma para obtener las frecuencias\n",
    "freq_abs, bins = np.histogram(views, bins=num_classes)\n",
    "freq_rel = freq_abs / len(views)  # Frecuencia relativa\n",
    "freq_cum = np.cumsum(freq_abs)     # Frecuencia acumulada\n",
    "\n",
    "# Tabla de frecuencias\n",
    "freq_table_views = pd.DataFrame({\n",
    "    'Clase': [f\"{int(bins[i])} - {int(bins[i+1])}\" for i in range(len(bins)-1)],\n",
    "    'Frecuencia Absoluta': freq_abs,\n",
    "    'Frecuencia Relativa': freq_rel,\n",
    "    'Frecuencia Acumulada': freq_cum\n",
    "})\n",
    "\n",
    "print(freq_table_views)"
   ]
  }
 ],
 "metadata": {
  "kernelspec": {
   "display_name": "Python 3",
   "language": "python",
   "name": "python3"
  },
  "language_info": {
   "codemirror_mode": {
    "name": "ipython",
    "version": 3
   },
   "file_extension": ".py",
   "mimetype": "text/x-python",
   "name": "python",
   "nbconvert_exporter": "python",
   "pygments_lexer": "ipython3",
   "version": "3.11.6"
  }
 },
 "nbformat": 4,
 "nbformat_minor": 2
}
