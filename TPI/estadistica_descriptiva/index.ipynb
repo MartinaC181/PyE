{
 "cells": [
  {
   "cell_type": "markdown",
   "metadata": {},
   "source": [
    "# Las variables que elegimos para analizar:\n",
    "\n",
    " imdb_rating: \n",
    "    \n",
    "* Tipo: Continua\n",
    "\n",
    " imdb_votes: \n",
    "    Representa el número de votos en IMDb para cada episodio\n",
    "* Tipo: Discreta, ya que los votos solo pueden ser números enteros\n",
    "\n",
    "us_viewers_in_millions: \n",
    "    Muestra el número de espectadores en millones en Estados Unidos \n",
    "* Tipo: Continua\n",
    "\n",
    "season: \n",
    "    Esta variable es categórica pero se puede tratar como discreta\n",
    "\n",
    "views: \n",
    "    Cantidad de veces que un episodio ha sido visto en plataformas oficiales\n",
    "* Tipo: Continua"
   ]
  }
 ],
 "metadata": {
  "kernelspec": {
   "display_name": "Python 3",
   "language": "python",
   "name": "python3"
  },
  "language_info": {
   "codemirror_mode": {
    "name": "ipython",
    "version": 3
   },
   "file_extension": ".py",
   "mimetype": "text/x-python",
   "name": "python",
   "nbconvert_exporter": "python",
   "pygments_lexer": "ipython3",
   "version": "3.11.6"
  }
 },
 "nbformat": 4,
 "nbformat_minor": 2
}
