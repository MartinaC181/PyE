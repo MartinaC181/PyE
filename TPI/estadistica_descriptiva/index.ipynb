{
 "cells": [
  {
   "cell_type": "markdown",
   "metadata": {},
   "source": [
    "## hay varias variables en tu dataset que podrían ser interesantes para el análisis estadístico:\n",
    "\n",
    "--imdb_rating: Tipo: Continua (calificaciones en decimales). Tabla de distribución de frecuencias: Crear clases (intervalos de calificaciones) y calcular frecuencias absolutas, relativas y acumuladas para analizar la distribución de las calificaciones.\n",
    "\n",
    "--imdb_votes: Representa el número de votos en IMDb para cada episodio. Esta variable es discreta, ya que los votos solo pueden ser números enteros. Podrías analizar su distribución para ver si algunos episodios han recibido significativamente más votos que otros.\n",
    "\n",
    "--us_viewers_in_millions: Muestra el número de espectadores en millones en EE. UU. También es una variable continua y podría ser interesante para entender cómo ha variado la audiencia a lo largo de los episodios. Podrías calcular medidas de tendencia central, dispersión, e intervalos de confianza para esta variable.\n",
    "\n",
    "--season: Indica la temporada a la que pertenece cada episodio. Esta variable es categórica pero se puede tratar como discreta si quieres analizar la cantidad de episodios por temporada o la variación de la audiencia o la calificación media por temporada.\n",
    "\n",
    "--views: Aunque no está claro de inmediato qué representa esta columna, si es la cantidad de veces que un episodio ha sido visto en otra plataforma, también podría usarse para explorar la popularidad relativa de los episodios."
   ]
  }
 ],
 "metadata": {
  "kernelspec": {
   "display_name": "Python 3",
   "language": "python",
   "name": "python3"
  },
  "language_info": {
   "codemirror_mode": {
    "name": "ipython",
    "version": 3
   },
   "file_extension": ".py",
   "mimetype": "text/x-python",
   "name": "python",
   "nbconvert_exporter": "python",
   "pygments_lexer": "ipython3",
   "version": "3.11.6"
  }
 },
 "nbformat": 4,
 "nbformat_minor": 2
}
