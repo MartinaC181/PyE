{
 "cells": [
  {
   "cell_type": "code",
   "execution_count": 1,
   "metadata": {},
   "outputs": [],
   "source": [
    "import pandas as pd\n",
    "import numpy as np\n",
    "import scipy.stats as stats\n",
    "import os\n",
    "\n",
    "os.chdir(r'C:\\Users\\Martina\\Documents\\TUP\\Estadistica y Probabilidad\\TPI')"
   ]
  },
  {
   "cell_type": "code",
   "execution_count": null,
   "metadata": {},
   "outputs": [],
   "source": [
    "simpsons_data = pd.read_csv('data/simpsons_episodes.csv')\n",
    "\n",
    "ratings = simpsons_data['imdb_rating'].dropna()\n",
    "\n",
    "media_rating = ratings.mean() \n",
    "desv_est_rating = ratings.std()\n"
   ]
  },
  {
   "cell_type": "code",
   "execution_count": null,
   "metadata": {},
   "outputs": [],
   "source": [
    "nivel_confianza = 0.95\n",
    "z_critico = stats.norm.ppf(1 - (1 - nivel_confianza) / 2)"
   ]
  },
  {
   "cell_type": "markdown",
   "metadata": {},
   "source": [
    "### Estimar el error estándar:\n",
    "\n",
    "El error estándar se calcula como:\n",
    "    \n",
    "        error estándar = desviación estándar muestral / raíz cuadrada(n)"
   ]
  },
  {
   "cell_type": "code",
   "execution_count": null,
   "metadata": {},
   "outputs": [],
   "source": [
    "\n",
    "n = len(ratings)\n",
    "error_estandar = desv_est_rating / np.sqrt(n)"
   ]
  },
  {
   "cell_type": "markdown",
   "metadata": {},
   "source": [
    "### Utilizar la distribución adecuada, según el tamaño de la muestra:\n",
    "\n",
    "Si el tamaño de la muestra es suficientemente grande (generalmente 𝑛 ≥ 30) utilizamos la distribución normal (Z) para calcular el intervalo de confianza. Si el tamaño de la muestra fuera pequeño, utilizaríamos la distribución t de Student.\n",
    "\n",
    "En este caso, dado que tienes más de 30 episodios en la muestra, usaremos la distribución normal (Z)."
   ]
  },
  {
   "cell_type": "code",
   "execution_count": null,
   "metadata": {},
   "outputs": [],
   "source": [
    "margen_error = z_critico * error_estandar\n",
    "limite_inferior = media_rating - margen_error\n",
    "limite_superior = media_rating + margen_error"
   ]
  },
  {
   "cell_type": "code",
   "execution_count": 6,
   "metadata": {},
   "outputs": [
    {
     "name": "stdout",
     "output_type": "stream",
     "text": [
      "Análisis de Inferencia Estadística para IMDb Rating:\n",
      "  Media muestral: 7.38609715242881\n",
      "  Desviación estándar muestral: 0.7324393902188949\n",
      "  Error estándar: 0.029976748676484415\n",
      "  Intervalo de confianza del 95%: [7.327343804649292, 7.444850500208329]\n"
     ]
    }
   ],
   "source": [
    "print(\"Análisis de Inferencia Estadística para IMDb Rating:\")\n",
    "print(f\"  Media muestral: {media_rating}\")\n",
    "print(f\"  Desviación estándar muestral: {desv_est_rating}\")\n",
    "print(f\"  Error estándar: {error_estandar}\")\n",
    "print(f\"  Intervalo de confianza del 95%: [{limite_inferior}, {limite_superior}]\")"
   ]
  },
  {
   "cell_type": "markdown",
   "metadata": {},
   "source": [
    "Media Muestral:\n",
    "\n",
    "    La media muestral representa el promedio de calificaciones en IMDb para los episodios de la muestra.\n",
    "    Este valor refleja la evaluación promedio que los espectadores dan a los episodios de Los Simpsons.\n",
    "\n",
    "Desviación Estándar Muestral:\n",
    "\n",
    "    La desviación estándar muestral muestra la variabilidad de las calificaciones en torno a la media.\n",
    "    Un valor alto indica una dispersión considerable, lo que significa que algunos episodios tienen calificaciones mucho más altas o bajas que el promedio.\n",
    "    Un valor bajo sugiere que las calificaciones son consistentes, sin grandes diferencias entre episodios.\n",
    "\n",
    "Error Estándar:\n",
    "\n",
    "    El error estándar mide la precisión de la media muestral al estimar la media poblacional.\n",
    "    Un error estándar bajo indica que la media muestral es una buena aproximación de la media poblacional, mientras que un error estándar alto sugiere mayor incertidumbre en la estimación.\n",
    "\n",
    "Intervalo de Confianza (95%):\n",
    "\n",
    "    Con un 95% de confianza, podemos decir que la media poblacional de calificaciones en IMDb para todos los episodios se encuentra dentro del intervalo calculado.\n",
    "    Esto significa que si tomamos múltiples muestras y repetimos el análisis, el 95% de los intervalos calculados contendrían la verdadera media poblacional.\n",
    "     Si el intervalo es estrecho, indica una mayor precisión en la estimación de la media poblacional. Un intervalo amplio sugiere que hay más variabilidad en las calificaciones."
   ]
  }
 ],
 "metadata": {
  "kernelspec": {
   "display_name": "Python 3",
   "language": "python",
   "name": "python3"
  },
  "language_info": {
   "codemirror_mode": {
    "name": "ipython",
    "version": 3
   },
   "file_extension": ".py",
   "mimetype": "text/x-python",
   "name": "python",
   "nbconvert_exporter": "python",
   "pygments_lexer": "ipython3",
   "version": "3.11.6"
  }
 },
 "nbformat": 4,
 "nbformat_minor": 2
}
