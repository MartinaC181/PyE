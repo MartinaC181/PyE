{
 "cells": [
  {
   "cell_type": "code",
   "execution_count": 5,
   "metadata": {},
   "outputs": [],
   "source": [
    "import pandas as pd\n",
    "import numpy as np\n",
    "import scipy.stats as stats\n",
    "import os\n",
    "\n",
    "os.chdir(r'C:\\Users\\Martina\\Documents\\TUP\\Estadistica y Probabilidad\\TPI')"
   ]
  },
  {
   "cell_type": "markdown",
   "metadata": {},
   "source": [
    "### Identificar el estadístico muestral:\n",
    "\n",
    "Para la variable IMDb Rating, los estadísticos muestrales que calcularemos son:\n",
    "--Media\n",
    "\n",
    "--Desviación estándar\n",
    "\n",
    "--Proporción no aplica directamente aquí, ya que IMDb Rating es una variable continua."
   ]
  },
  {
   "cell_type": "code",
   "execution_count": 6,
   "metadata": {},
   "outputs": [],
   "source": [
    "# Carga el dataset\n",
    "simpsons_data = pd.read_csv('data/simpsons_episodes.csv')\n",
    "\n",
    "# Selecciona la columna 'imdb_rating' y elimina valores nulos\n",
    "ratings = simpsons_data['imdb_rating'].dropna()\n",
    "\n",
    "# Paso 1: Calcular la media y desviación estándar muestral\n",
    "media_rating = ratings.mean()\n",
    "desv_est_rating = ratings.std()\n"
   ]
  },
  {
   "cell_type": "markdown",
   "metadata": {},
   "source": [
    "### Calcular el intervalo de confianza para los estadísticos muestrales:\n",
    "\n",
    "Utilizaremos un intervalo de confianza para la media de IMDb Rating."
   ]
  },
  {
   "cell_type": "code",
   "execution_count": 7,
   "metadata": {},
   "outputs": [],
   "source": [
    "# Intervalo de confianza (95%) utilizando Z, ya que n > 30\n",
    "nivel_confianza = 0.95\n",
    "z_critico = stats.norm.ppf(1 - (1 - nivel_confianza) / 2)"
   ]
  },
  {
   "cell_type": "markdown",
   "metadata": {},
   "source": [
    "### Estimar el error estándar:\n",
    "\n",
    "El error estándar se calcula como:\n",
    "    \n",
    "        error estándar = desviación estándar muestral / raíz cuadrada(n)\n",
    "    \n",
    "Este valor representa cuánto puede variar la media muestral al estimar la media poblacional."
   ]
  },
  {
   "cell_type": "code",
   "execution_count": 8,
   "metadata": {},
   "outputs": [],
   "source": [
    "# Calcular el error estándar\n",
    "n = len(ratings)\n",
    "error_estandar = desv_est_rating / np.sqrt(n)"
   ]
  },
  {
   "cell_type": "markdown",
   "metadata": {},
   "source": [
    "### Utilizar la distribución adecuada, según el tamaño de la muestra:\n",
    "\n",
    "Si el tamaño de la muestra es suficientemente grande (generalmente 𝑛 ≥ 30) utilizamos la distribución normal (Z) para calcular el intervalo de confianza. Si el tamaño de la muestra fuera pequeño, utilizaríamos la distribución t de Student.\n",
    "\n",
    "En este caso, dado que tienes más de 30 episodios en la muestra, usaremos la distribución normal (Z)."
   ]
  },
  {
   "cell_type": "code",
   "execution_count": 10,
   "metadata": {},
   "outputs": [],
   "source": [
    "# Margen de error e intervalo de confianza\n",
    "margen_error = z_critico * error_estandar\n",
    "limite_inferior = media_rating - margen_error\n",
    "limite_superior = media_rating + margen_error"
   ]
  },
  {
   "cell_type": "code",
   "execution_count": 12,
   "metadata": {},
   "outputs": [
    {
     "name": "stdout",
     "output_type": "stream",
     "text": [
      "Análisis de Inferencia Estadística para IMDb Rating:\n",
      "  Media muestral: 7.38609715242881\n",
      "  Desviación estándar muestral: 0.7324393902188949\n",
      "  Error estándar: 0.029976748676484415\n",
      "  Intervalo de confianza del 95%: [7.327343804649292, 7.444850500208329]\n"
     ]
    }
   ],
   "source": [
    "print(\"Análisis de Inferencia Estadística para IMDb Rating:\")\n",
    "print(f\"  Media muestral: {media_rating}\")\n",
    "print(f\"  Desviación estándar muestral: {desv_est_rating}\")\n",
    "print(f\"  Error estándar: {error_estandar}\")\n",
    "print(f\"  Intervalo de confianza del 95%: [{limite_inferior}, {limite_superior}]\")"
   ]
  },
  {
   "cell_type": "markdown",
   "metadata": {},
   "source": [
    "## Interpretación de los Resultados\n",
    "\n",
    "Media Muestral:\n",
    "\n",
    "    La media muestral representa el promedio de calificaciones en IMDb para los episodios de la muestra.\n",
    "    Este valor refleja la evaluación promedio que los espectadores dan a los episodios de The Simpsons.\n",
    "\n",
    "Desviación Estándar Muestral:\n",
    "\n",
    "    La desviación estándar muestral muestra la variabilidad de las calificaciones en torno a la media.\n",
    "    Un valor alto indica una dispersión considerable, lo que significa que algunos episodios tienen calificaciones mucho más altas o bajas que el promedio.\n",
    "    Un valor bajo sugiere que las calificaciones son consistentes, sin grandes diferencias entre episodios.\n",
    "\n",
    "Error Estándar:\n",
    "\n",
    "    El error estándar mide la precisión de la media muestral al estimar la media poblacional.\n",
    "    Un error estándar bajo indica que la media muestral es una buena aproximación de la media poblacional, mientras que un error estándar alto sugiere mayor incertidumbre en la estimación.\n",
    "\n",
    "Intervalo de Confianza (95%):\n",
    "\n",
    "    Con un 95% de confianza, podemos decir que la media poblacional de calificaciones en IMDb para todos los episodios se encuentra dentro del intervalo calculado.\n",
    "    Esto significa que si tomamos múltiples muestras y repetimos el análisis, el 95% de los intervalos calculados contendrían la verdadera media poblacional.\n",
    "    Interpretación: Si el intervalo es estrecho, indica una mayor precisión en la estimación de la media poblacional. Un intervalo amplio sugiere que hay más variabilidad en las calificaciones.\n",
    "\n",
    "### Ejemplo de Interpretación con Números\n",
    "\n",
    "Supongamos que obtuviste los siguientes resultados:\n",
    "\n",
    "* Media muestral: 7.8\n",
    "* Desviación estándar muestral: 0.9\n",
    "* Error estándar: 0.1\n",
    "* Intervalo de confianza del 95%: [7.6, 8.0]\n",
    "* Esto se interpretaría así:\n",
    "\n",
    "Media muestral: En promedio, los episodios de The Simpsons tienen una calificación de 7.8 en IMDb.\n",
    "\n",
    "Desviación estándar: Las calificaciones varían en promedio 0.9 puntos respecto a la media, lo que sugiere alguna variabilidad en las evaluaciones.\n",
    "\n",
    "Error estándar: El error estándar de 0.1 indica que la media muestral es una buena representación de la media poblacional.\n",
    "\n",
    "Intervalo de confianza: Con un 95% de confianza, la media poblacional de las calificaciones de The Simpsons se encuentra entre 7.6 y 8.0, indicando una popularidad generalmente alta y constante entre los episodios."
   ]
  }
 ],
 "metadata": {
  "kernelspec": {
   "display_name": "Python 3",
   "language": "python",
   "name": "python3"
  },
  "language_info": {
   "codemirror_mode": {
    "name": "ipython",
    "version": 3
   },
   "file_extension": ".py",
   "mimetype": "text/x-python",
   "name": "python",
   "nbconvert_exporter": "python",
   "pygments_lexer": "ipython3",
   "version": "3.11.6"
  }
 },
 "nbformat": 4,
 "nbformat_minor": 2
}
