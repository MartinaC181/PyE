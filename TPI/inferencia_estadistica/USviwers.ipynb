{
 "cells": [
  {
   "cell_type": "code",
   "execution_count": 1,
   "metadata": {},
   "outputs": [],
   "source": [
    "import pandas as pd\n",
    "import numpy as np\n",
    "import scipy.stats as stats\n",
    "import os\n",
    "\n",
    "os.chdir(r'C:\\Users\\Martina\\Documents\\TUP\\Estadistica y Probabilidad\\TPI')"
   ]
  },
  {
   "cell_type": "code",
   "execution_count": null,
   "metadata": {},
   "outputs": [
    {
     "name": "stdout",
     "output_type": "stream",
     "text": [
      "Análisis de Inferencia Estadística para US Viewers in Millions:\n",
      "  Media muestral: 11.842794612794613 millones de espectadores\n",
      "  Desviación estándar muestral: 6.4142175238614305 millones\n",
      "  Error estándar: 0.2631785328259557 millones\n",
      "  Intervalo de confianza del 95%: [11.326974166951647, 12.358615058637579] millones de espectadores\n"
     ]
    }
   ],
   "source": [
    "simpsons_data = pd.read_csv('data/simpsons_episodes.csv')\n",
    "\n",
    "viewers = simpsons_data['us_viewers_in_millions'].dropna()\n",
    "\n",
    "media_viewers = viewers.mean()\n",
    "desv_est_viewers = viewers.std()\n",
    "\n",
    "n = len(viewers)\n",
    "error_estandar = desv_est_viewers / np.sqrt(n)\n",
    "\n",
    "nivel_confianza = 0.95\n",
    "z_critico = stats.norm.ppf(1 - (1 - nivel_confianza) / 2)\n",
    "\n",
    "margen_error = z_critico * error_estandar\n",
    "limite_inferior = media_viewers - margen_error\n",
    "limite_superior = media_viewers + margen_error\n",
    "\n",
    "print(\"Análisis de Inferencia Estadística para US Viewers in Millions:\")\n",
    "print(f\"  Media muestral: {media_viewers} millones de espectadores\")\n",
    "print(f\"  Desviación estándar muestral: {desv_est_viewers} millones\")\n",
    "print(f\"  Error estándar: {error_estandar} millones\")\n",
    "print(f\"  Intervalo de confianza del 95%: [{limite_inferior}, {limite_superior}] millones de espectadores\")\n"
   ]
  },
  {
   "cell_type": "markdown",
   "metadata": {},
   "source": [
    "\n",
    "Media Muestral:\n",
    "\n",
    "    La media muestral de us_viewers_in_millions representa el promedio de espectadores en Estados Unidos que ven un episodio de Los Simpsons en la muestra. Esto te da una idea del nivel de popularidad promedio de los episodios.\n",
    "    Una media alta indicaría un gran interés en la serie\n",
    "\n",
    "Desviación Estándar Muestral:\n",
    "\n",
    "    La desviación estándar muestral indica la variabilidad de la audiencia en torno a la media. Un valor alto sugiere que algunos episodios tienen audiencias mucho mayores o menores que el promedio, lo cual podría reflejar episodios particularmente populares o menos vistos.\n",
    "\n",
    "Error Estándar:\n",
    "\n",
    "    El error estándar muestra cuánto varía la media muestral con respecto a la media poblacional de espectadores.\n",
    "    Un error estándar bajo indica que nuestra muestra es una buena representación de la audiencia total, mientras que un error estándar alto sugiere más variabilidad en las estimaciones.\n",
    "\n",
    "Intervalo de Confianza (95%):\n",
    "\n",
    "    Con un 95% de confianza, podemos decir que la media poblacional de la audiencia en millones de espectadores para todos los episodios se encuentra dentro del intervalo calculado.\n",
    "    Esto significa que, si repitiéramos el análisis con diferentes muestras de episodios, el promedio de audiencia caería en este rango en la mayoría de los casos.\n",
    "     Si el intervalo es amplio, puede indicar que la audiencia de los episodios varía bastante. Si el intervalo es estrecho, significa que la audiencia es relativamente constante entre los episodios."
   ]
  }
 ],
 "metadata": {
  "kernelspec": {
   "display_name": "Python 3",
   "language": "python",
   "name": "python3"
  },
  "language_info": {
   "codemirror_mode": {
    "name": "ipython",
    "version": 3
   },
   "file_extension": ".py",
   "mimetype": "text/x-python",
   "name": "python",
   "nbconvert_exporter": "python",
   "pygments_lexer": "ipython3",
   "version": "3.11.6"
  }
 },
 "nbformat": 4,
 "nbformat_minor": 2
}
