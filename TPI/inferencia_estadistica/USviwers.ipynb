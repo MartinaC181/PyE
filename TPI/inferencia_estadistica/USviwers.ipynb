{
 "cells": [
  {
   "cell_type": "code",
   "execution_count": 1,
   "metadata": {},
   "outputs": [],
   "source": [
    "import pandas as pd\n",
    "import numpy as np\n",
    "import scipy.stats as stats\n",
    "import os\n",
    "\n",
    "os.chdir(r'C:\\Users\\Martina\\Documents\\TUP\\Estadistica y Probabilidad\\TPI')"
   ]
  },
  {
   "cell_type": "code",
   "execution_count": 2,
   "metadata": {},
   "outputs": [
    {
     "name": "stdout",
     "output_type": "stream",
     "text": [
      "Análisis de Inferencia Estadística para US Viewers in Millions:\n",
      "  Media muestral: 11.842794612794613 millones de espectadores\n",
      "  Desviación estándar muestral: 6.4142175238614305 millones\n",
      "  Error estándar: 0.2631785328259557 millones\n",
      "  Intervalo de confianza del 95%: [11.326974166951647, 12.358615058637579] millones de espectadores\n"
     ]
    }
   ],
   "source": [
    "# Carga el dataset\n",
    "simpsons_data = pd.read_csv('data/simpsons_episodes.csv')\n",
    "\n",
    "# Selecciona la columna 'us_viewers_in_millions' y elimina valores nulos\n",
    "viewers = simpsons_data['us_viewers_in_millions'].dropna()\n",
    "\n",
    "# 1. Estadísticos muestrales\n",
    "media_viewers = viewers.mean()\n",
    "desv_est_viewers = viewers.std()\n",
    "\n",
    "# 2. Error estándar\n",
    "n = len(viewers)\n",
    "error_estandar = desv_est_viewers / np.sqrt(n)\n",
    "\n",
    "# 3. Intervalo de confianza (95%) utilizando Z, ya que n > 30\n",
    "nivel_confianza = 0.95\n",
    "z_critico = stats.norm.ppf(1 - (1 - nivel_confianza) / 2)\n",
    "\n",
    "# Margen de error e intervalo de confianza\n",
    "margen_error = z_critico * error_estandar\n",
    "limite_inferior = media_viewers - margen_error\n",
    "limite_superior = media_viewers + margen_error\n",
    "\n",
    "print(\"Análisis de Inferencia Estadística para US Viewers in Millions:\")\n",
    "print(f\"  Media muestral: {media_viewers} millones de espectadores\")\n",
    "print(f\"  Desviación estándar muestral: {desv_est_viewers} millones\")\n",
    "print(f\"  Error estándar: {error_estandar} millones\")\n",
    "print(f\"  Intervalo de confianza del 95%: [{limite_inferior}, {limite_superior}] millones de espectadores\")\n"
   ]
  },
  {
   "cell_type": "markdown",
   "metadata": {},
   "source": [
    "## Interpretación de los Resultados\n",
    "\n",
    "Media Muestral:\n",
    "\n",
    "    La media muestral de us_viewers_in_millions representa el promedio de espectadores en EE. UU. que ven un episodio de The Simpsons en la muestra. Esto te da una idea del nivel de popularidad promedio de los episodios.\n",
    "    Una media alta indicaría un gran interés en la serie, mientras que una media baja podría sugerir que la audiencia en EE. UU. es limitada.\n",
    "\n",
    "Desviación Estándar Muestral:\n",
    "\n",
    "    La desviación estándar muestral indica la variabilidad de la audiencia en torno a la media. Un valor alto sugiere que algunos episodios tienen audiencias mucho mayores o menores que el promedio, lo cual podría reflejar episodios particularmente populares o menos vistos.\n",
    "    Un valor bajo sugiere que la audiencia es relativamente constante entre los episodios, sin variaciones drásticas.\n",
    "\n",
    "Error Estándar:\n",
    "\n",
    "    El error estándar muestra cuánto varía la media muestral con respecto a la media poblacional de espectadores.\n",
    "    Un error estándar bajo indica que nuestra muestra es una buena representación de la audiencia total, mientras que un error estándar alto sugiere más variabilidad en las estimaciones.\n",
    "\n",
    "Intervalo de Confianza (95%):\n",
    "\n",
    "    on un 95% de confianza, podemos decir que la media poblacional de la audiencia en millones de espectadores para todos los episodios se encuentra dentro del intervalo calculado.\n",
    "    Esto significa que, si repitiéramos el análisis con diferentes muestras de episodios, el promedio de audiencia caería en este rango en la mayoría de los casos.\n",
    "    Interpretación específica: Si el intervalo es amplio, puede indicar que la audiencia de los episodios varía bastante. Si el intervalo es estrecho, significa que la audiencia es relativamente constante entre los episodios.\n",
    "\n",
    "### Ejemplo de Interpretación con Números\n",
    "\n",
    "Supongamos que obtuviste los siguientes resultados:\n",
    "\n",
    "* Media muestral: 8 millones de espectadores.\n",
    "* Desviación estándar muestral: 2 millones de espectadores.\n",
    "* Error estándar: 0.5 millones de espectadores.\n",
    "* Intervalo de confianza del 95%: [7.0, 9.0] millones de espectadores.\n",
    "* Esto se interpretaría así:\n",
    "\n",
    "Media muestral: En promedio, cada episodio de The Simpsons es visto por aproximadamente 8 millones de espectadores en EE. UU.\n",
    "\n",
    "Desviación estándar: La audiencia típica varía alrededor de 2 millones de espectadores respecto a la media, lo que sugiere que algunos episodios tienen audiencias mayores y otros menores.\n",
    "\n",
    "Error estándar: Con un error estándar de 0.5 millones, nuestra media muestral es una buena estimación de la media poblacional.\n",
    "\n",
    "Intervalo de confianza: Con un 95% de confianza, estimamos que la audiencia promedio de todos los episodios de The Simpsons cae entre 7 y 9 millones de espectadores en EE. UU. Esto significa que la mayoría de episodios son vistos por un público considerable."
   ]
  }
 ],
 "metadata": {
  "kernelspec": {
   "display_name": "Python 3",
   "language": "python",
   "name": "python3"
  },
  "language_info": {
   "codemirror_mode": {
    "name": "ipython",
    "version": 3
   },
   "file_extension": ".py",
   "mimetype": "text/x-python",
   "name": "python",
   "nbconvert_exporter": "python",
   "pygments_lexer": "ipython3",
   "version": "3.11.6"
  }
 },
 "nbformat": 4,
 "nbformat_minor": 2
}
