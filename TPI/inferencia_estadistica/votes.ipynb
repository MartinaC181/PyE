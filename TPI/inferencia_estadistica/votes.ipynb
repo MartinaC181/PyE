{
 "cells": [
  {
   "cell_type": "code",
   "execution_count": 1,
   "metadata": {},
   "outputs": [],
   "source": [
    "import pandas as pd\n",
    "import numpy as np\n",
    "import scipy.stats as stats\n",
    "import os\n",
    "\n",
    "os.chdir(r'C:\\Users\\Martina\\Documents\\TUP\\Estadistica y Probabilidad\\TPI')"
   ]
  },
  {
   "cell_type": "code",
   "execution_count": null,
   "metadata": {},
   "outputs": [
    {
     "name": "stdout",
     "output_type": "stream",
     "text": [
      "Análisis de Inferencia Estadística para IMDb Votes:\n",
      "  Media muestral: 832.3651591289782\n",
      "  Desviación estándar muestral: 396.11793714291565\n",
      "  Error estándar: 16.212027925521458\n",
      "  Intervalo de confianza del 95%: [800.5901682785985, 864.140149979358]\n"
     ]
    }
   ],
   "source": [
    "import pandas as pd\n",
    "import numpy as np\n",
    "import scipy.stats as stats\n",
    "\n",
    "simpsons_data = pd.read_csv('data/simpsons_episodes.csv')\n",
    "\n",
    "votes = simpsons_data['imdb_votes'].dropna()\n",
    "\n",
    "media_votes = votes.mean()\n",
    "desv_est_votes = votes.std()\n",
    "\n",
    "n = len(votes)\n",
    "error_estandar = desv_est_votes / np.sqrt(n)\n",
    "\n",
    "\n",
    "nivel_confianza = 0.95\n",
    "z_critico = stats.norm.ppf(1 - (1 - nivel_confianza) / 2)\n",
    "\n",
    "\n",
    "margen_error = z_critico * error_estandar\n",
    "limite_inferior = media_votes - margen_error\n",
    "limite_superior = media_votes + margen_error\n",
    "\n",
    "print(\"Análisis de Inferencia Estadística para IMDb Votes:\")\n",
    "print(f\"  Media muestral: {media_votes}\")\n",
    "print(f\"  Desviación estándar muestral: {desv_est_votes}\")\n",
    "print(f\"  Error estándar: {error_estandar}\")\n",
    "print(f\"  Intervalo de confianza del 95%: [{limite_inferior}, {limite_superior}]\")"
   ]
  },
  {
   "cell_type": "markdown",
   "metadata": {},
   "source": [
    "### Media Muestral\n",
    "    La media muestral de imdb_votes representa el promedio de votos en IMDb que recibieron los episodios de Los Simpsons en tu muestra.\n",
    "    Este valor indica el número típico de votos que recibe un episodio en IMDb, y es una medida del interés general de los usuarios de IMDb en cada episodio.\n",
    "    Si la media es relativamente alta, podemos interpretar que los episodios de Los Simpsons atraen mucha atención y votación en IMDb; si es baja, podría sugerir que el interés es más moderado.\n",
    "\n",
    "### Desviación Estándar Muestral\n",
    "    La desviación estándar muestral refleja la variabilidad o dispersión de los votos de IMDb alrededor de la media.\n",
    "    Un valor alto de desviación estándar indica que los votos de los episodios varían considerablemente: algunos episodios reciben muchos votos, mientras que otros reciben pocos.\n",
    "    Un valor bajo sugiere que la mayoría de los episodios tienen un número de votos cercano a la media, lo cual indicaría consistencia en el interés de la audiencia.\n",
    "    Comparando la desviación estándar con la media te da una idea de cuán dispersa está la distribución de votos. Si la desviación estándar es similar o mayor que la media, la variabilidad es alta.\n",
    "### Error Estándar\n",
    "    El error estándar mide cuánto podría variar la media de la población en relación con la media de la muestra.\n",
    "    En otras palabras, el error estándar nos da una idea de cuán precisa es nuestra media muestral como estimación de la media poblacional.\n",
    "    Un valor bajo del error estándar sugiere que nuestra muestra es representativa de la población, y que la media muestral es una buena aproximación de la media real.\n",
    "    En el contexto de IMDb, un error estándar bajo significaría que, si tomáramos diferentes muestras de episodios, la media de votos en cada muestra sería muy similar a la media de votos de toda la población.\n",
    "### Intervalo de Confianza del 95%\n",
    "    El intervalo de confianza del 95% indica un rango dentro del cual podemos afirmar con un 95% de certeza que se encuentra la media poblacional de votos de IMDb.\n",
    "    Esto significa que, si pudiéramos obtener una muestra diferente de episodios y repitiéramos el análisis muchas veces, el 95% de las veces la media poblacional caería dentro de este rango.\n",
    "\n",
    "Interpretación:\n",
    "    Un intervalo de confianza estrecho alrededor de la media sugiere que tenemos una estimación precisa de la media poblacional.\n",
    "    Si el intervalo es amplio, indica que existe una mayor incertidumbre sobre el valor verdadero de la media poblacional.\n",
    "    En el contexto de The Simpsons, el intervalo de confianza te ayuda a inferir cuántos votos reciben los episodios en general. Si el límite inferior del intervalo es alto, podemos suponer que, en promedio, los episodios son populares en IMDb y atraen muchos votos. Si el límite inferior es bajo, algunos episodios podrían no recibir tanta atención."
   ]
  }
 ],
 "metadata": {
  "kernelspec": {
   "display_name": "Python 3",
   "language": "python",
   "name": "python3"
  },
  "language_info": {
   "codemirror_mode": {
    "name": "ipython",
    "version": 3
   },
   "file_extension": ".py",
   "mimetype": "text/x-python",
   "name": "python",
   "nbconvert_exporter": "python",
   "pygments_lexer": "ipython3",
   "version": "3.11.6"
  }
 },
 "nbformat": 4,
 "nbformat_minor": 2
}
