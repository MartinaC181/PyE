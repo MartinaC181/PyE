{
 "cells": [
  {
   "cell_type": "code",
   "execution_count": 1,
   "metadata": {},
   "outputs": [],
   "source": [
    "import pandas as pd\n",
    "import numpy as np\n",
    "import scipy.stats as stats\n",
    "import os\n",
    "\n",
    "os.chdir(r'C:\\Users\\Martina\\Documents\\TUP\\Estadistica y Probabilidad\\TPI')"
   ]
  },
  {
   "cell_type": "code",
   "execution_count": 2,
   "metadata": {},
   "outputs": [
    {
     "name": "stdout",
     "output_type": "stream",
     "text": [
      "Análisis de Inferencia Estadística para Views:\n",
      "  Media muestral: 48759.37751677852 visualizaciones\n",
      "  Desviación estándar muestral: 17751.308463741163 visualizaciones\n",
      "  Error estándar: 727.1219262238286 visualizaciones\n",
      "  Intervalo de confianza del 95%: [47334.244729010425, 50184.51030454662] visualizaciones\n"
     ]
    }
   ],
   "source": [
    "# Carga el dataset\n",
    "simpsons_data = pd.read_csv('data/simpsons_episodes.csv')\n",
    "\n",
    "# Selecciona la columna 'views' y elimina valores nulos\n",
    "views = simpsons_data['views'].dropna()\n",
    "\n",
    "# 1. Estadísticos muestrales\n",
    "media_views = views.mean()\n",
    "desv_est_views = views.std()\n",
    "\n",
    "# 2. Error estándar\n",
    "n = len(views)\n",
    "error_estandar = desv_est_views / np.sqrt(n)\n",
    "\n",
    "# 3. Intervalo de confianza (95%) utilizando Z, ya que n > 30\n",
    "nivel_confianza = 0.95\n",
    "z_critico = stats.norm.ppf(1 - (1 - nivel_confianza) / 2)\n",
    "\n",
    "# Margen de error e intervalo de confianza\n",
    "margen_error = z_critico * error_estandar\n",
    "limite_inferior = media_views - margen_error\n",
    "limite_superior = media_views + margen_error\n",
    "\n",
    "print(\"Análisis de Inferencia Estadística para Views:\")\n",
    "print(f\"  Media muestral: {media_views} visualizaciones\")\n",
    "print(f\"  Desviación estándar muestral: {desv_est_views} visualizaciones\")\n",
    "print(f\"  Error estándar: {error_estandar} visualizaciones\")\n",
    "print(f\"  Intervalo de confianza del 95%: [{limite_inferior}, {limite_superior}] visualizaciones\")"
   ]
  },
  {
   "cell_type": "markdown",
   "metadata": {},
   "source": [
    "## Interpretación de los Resultados\n",
    "\n",
    "Media Muestral:\n",
    "\n",
    "    La media muestral de views representa el promedio de visualizaciones que reciben los episodios de The Simpsons en plataformas digitales.\n",
    "    Este valor indica el nivel general de interés y visualización de los episodios en la muestra.\n",
    "\n",
    "Desviación Estándar Muestral:\n",
    "\n",
    "    La desviación estándar muestral indica la dispersión de las visualizaciones en torno a la media.\n",
    "    Un valor alto sugiere que algunos episodios reciben muchas más visualizaciones que otros, indicando variabilidad en el interés de los espectadores.\n",
    "    Un valor bajo indicaría que la mayoría de los episodios tienen un número de visualizaciones similar.\n",
    "\n",
    "Error Estándar:\n",
    "\n",
    "    El error estándar muestra el grado de precisión con el que la media muestral representa la media poblacional de visualizaciones.\n",
    "    Un error estándar bajo sugiere que nuestra media muestral es una buena aproximación de la media poblacional, mientras que un error alto indica más variabilidad en la estimación.\n",
    "\n",
    "Intervalo de Confianza (95%):\n",
    "\n",
    "    Con un 95% de confianza, podemos decir que la media poblacional de visualizaciones de todos los episodios se encuentra dentro del intervalo calculado.\n",
    "    Esto significa que si repitiéramos el análisis con diferentes muestras de episodios, el promedio de visualizaciones en la población total caería en este rango en la mayoría de los casos.\n",
    "    Interpretación específica: Un intervalo de confianza estrecho alrededor de la media indica estabilidad en el número de visualizaciones de los episodios. Un intervalo amplio podría sugerir que algunos episodios son mucho más populares que otros.\n",
    "\n",
    "### Ejemplo de Interpretación con Números\n",
    "\n",
    "Supongamos que los resultados fueron:\n",
    "\n",
    "* Media muestral: 50,000 visualizaciones.\n",
    "* Desviación estándar muestral: 15,000 visualizaciones.\n",
    "* Error estándar: 2,000 visualizaciones.\n",
    "* Intervalo de confianza del 95%: [46,000, 54,000] visualizaciones.\n",
    "* Esto se interpretaría así:\n",
    "\n",
    "Media muestral: En promedio, cada episodio de The Simpsons tiene 50,000 visualizaciones en plataformas digitales.\n",
    "\n",
    "Desviación estándar: Las visualizaciones de los episodios varían aproximadamente 15,000 visualizaciones respecto a la media, lo cual sugiere una variabilidad considerable.\n",
    "\n",
    "Error estándar: Con un error estándar de 2,000 visualizaciones, la media muestral es una estimación razonable de la media poblacional.\n",
    "\n",
    "Intervalo de confianza: Con un 95% de confianza, la media poblacional de visualizaciones se encuentra entre 46,000 y 54,000 visualizaciones. Esto indica que, en general, los episodios tienen una audiencia significativa en plataformas digitales."
   ]
  }
 ],
 "metadata": {
  "kernelspec": {
   "display_name": "Python 3",
   "language": "python",
   "name": "python3"
  },
  "language_info": {
   "codemirror_mode": {
    "name": "ipython",
    "version": 3
   },
   "file_extension": ".py",
   "mimetype": "text/x-python",
   "name": "python",
   "nbconvert_exporter": "python",
   "pygments_lexer": "ipython3",
   "version": "3.11.6"
  }
 },
 "nbformat": 4,
 "nbformat_minor": 2
}
