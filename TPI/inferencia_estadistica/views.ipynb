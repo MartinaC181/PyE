{
 "cells": [
  {
   "cell_type": "code",
   "execution_count": 1,
   "metadata": {},
   "outputs": [],
   "source": [
    "import pandas as pd\n",
    "import numpy as np\n",
    "import scipy.stats as stats\n",
    "import os\n",
    "\n",
    "os.chdir(r'C:\\Users\\Martina\\Documents\\TUP\\Estadistica y Probabilidad\\TPI')"
   ]
  },
  {
   "cell_type": "code",
   "execution_count": null,
   "metadata": {},
   "outputs": [
    {
     "name": "stdout",
     "output_type": "stream",
     "text": [
      "Análisis de Inferencia Estadística para Views:\n",
      "  Media muestral: 48759.37751677852 visualizaciones\n",
      "  Desviación estándar muestral: 17751.308463741163 visualizaciones\n",
      "  Error estándar: 727.1219262238286 visualizaciones\n",
      "  Intervalo de confianza del 95%: [47334.244729010425, 50184.51030454662] visualizaciones\n"
     ]
    }
   ],
   "source": [
    "simpsons_data = pd.read_csv('data/simpsons_episodes.csv')\n",
    "\n",
    "views = simpsons_data['views'].dropna()\n",
    "\n",
    "media_views = views.mean()\n",
    "desv_est_views = views.std()\n",
    "\n",
    "n = len(views)\n",
    "error_estandar = desv_est_views / np.sqrt(n)\n",
    "\n",
    "nivel_confianza = 0.95\n",
    "z_critico = stats.norm.ppf(1 - (1 - nivel_confianza) / 2)\n",
    "\n",
    "margen_error = z_critico * error_estandar\n",
    "limite_inferior = media_views - margen_error\n",
    "limite_superior = media_views + margen_error\n",
    "\n",
    "print(\"Análisis de Inferencia Estadística para Views:\")\n",
    "print(f\"  Media muestral: {media_views} visualizaciones\")\n",
    "print(f\"  Desviación estándar muestral: {desv_est_views} visualizaciones\")\n",
    "print(f\"  Error estándar: {error_estandar} visualizaciones\")\n",
    "print(f\"  Intervalo de confianza del 95%: [{limite_inferior}, {limite_superior}] visualizaciones\")"
   ]
  },
  {
   "cell_type": "markdown",
   "metadata": {},
   "source": [
    "Media Muestral:\n",
    "\n",
    "    La media muestral de views representa el promedio de visualizaciones que reciben los episodios de Los Simpsons en plataformas digitales.\n",
    "    Este valor indica el nivel general de interés y visualización de los episodios en la muestra.\n",
    "\n",
    "Desviación Estándar Muestral:\n",
    "\n",
    "    La desviación estándar muestral indica la dispersión de las visualizaciones en torno a la media.\n",
    "    Un valor alto sugiere que algunos episodios reciben muchas más visualizaciones que otros, indicando variabilidad en el interés de los espectadores.\n",
    "    Un valor bajo indicaría que la mayoría de los episodios tienen un número de visualizaciones similar.\n",
    "\n",
    "Error Estándar:\n",
    "\n",
    "    El error estándar muestra el grado de precisión con el que la media muestral representa la media poblacional de visualizaciones.\n",
    "    Un error estándar bajo sugiere que nuestra media muestral es una buena aproximación de la media poblacional, mientras que un error alto indica más variabilidad en la estimación.\n",
    "\n",
    "Intervalo de Confianza (95%):\n",
    "\n",
    "    Con un 95% de confianza, podemos decir que la media poblacional de visualizaciones de todos los episodios se encuentra dentro del intervalo calculado.\n",
    "    Esto significa que si repitiéramos el análisis con diferentes muestras de episodios, el promedio de visualizaciones en la población total caería en este rango en la mayoría de los casos.\n",
    "    Interpretación específica: Un intervalo de confianza estrecho alrededor de la media indica estabilidad en el número de visualizaciones de los episodios. Un intervalo amplio podría sugerir que algunos episodios son mucho más populares que otros."
   ]
  }
 ],
 "metadata": {
  "kernelspec": {
   "display_name": "Python 3",
   "language": "python",
   "name": "python3"
  },
  "language_info": {
   "codemirror_mode": {
    "name": "ipython",
    "version": 3
   },
   "file_extension": ".py",
   "mimetype": "text/x-python",
   "name": "python",
   "nbconvert_exporter": "python",
   "pygments_lexer": "ipython3",
   "version": "3.11.6"
  }
 },
 "nbformat": 4,
 "nbformat_minor": 2
}
