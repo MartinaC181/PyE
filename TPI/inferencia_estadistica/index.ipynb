{
 "cells": [
  {
   "cell_type": "markdown",
   "metadata": {},
   "source": [
    "# Estadísticos Muestrales\n",
    "Los estadísticos muestrales que podríamos analizar incluyen:\n",
    "\n",
    "* Media de IMDb Rating\n",
    "* Media de IMDb Votes\n",
    "* Media de US Viewers in Millions\n",
    "* Media de Views"
   ]
  }
 ],
 "metadata": {
  "language_info": {
   "name": "python"
  }
 },
 "nbformat": 4,
 "nbformat_minor": 2
}
