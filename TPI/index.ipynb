{
 "cells": [
  {
   "cell_type": "code",
   "execution_count": 3,
   "metadata": {},
   "outputs": [],
   "source": [
    "import numpy as np\n",
    "import os"
   ]
  },
  {
   "cell_type": "code",
   "execution_count": 9,
   "metadata": {},
   "outputs": [
    {
     "data": {
      "text/plain": [
       "['data', 'index.ipynb']"
      ]
     },
     "execution_count": 9,
     "metadata": {},
     "output_type": "execute_result"
    }
   ],
   "source": [
    "os.chdir(r\"C:\\Users\\Martina\\Documents\\TUP\\Estadistica y Probabilidad\\TPI\")\n",
    "os.getcwd()\n",
    "os.listdir()"
   ]
  },
  {
   "cell_type": "code",
   "execution_count": 10,
   "metadata": {},
   "outputs": [],
   "source": [
    "f = open(\"data\\simpsons_episodes.csv\", \"rt\")\n",
    "data = f.read()\n",
    "\n",
    "f.close()"
   ]
  },
  {
   "cell_type": "code",
   "execution_count": 17,
   "metadata": {},
   "outputs": [
    {
     "name": "stdout",
     "output_type": "stream",
     "text": [
      "id,image_url,imdb_rating,imdb_votes,number_in_season,number_in_series,original_air_date,original_air_year,production_code,season,title,us_viewers_in_millions,video_url,views\n",
      "\n",
      "10,http://static-media.fxx.com/img/FX_Networks_-_FXX/305/815/Simpsons_01_10.jpg,7.4,1511.0,10,10,1990-03-25,1990,7G10,1,Homer's Night Out,30.3,http://www.simpsonsworld.com/video/275197507879,50816.0\n",
      "\n"
     ]
    }
   ],
   "source": [
    "with open('data\\simpsons_episodes.csv') as f:\n",
    "  i = 0\n",
    "  for linea in f:\n",
    "    print(linea)\n",
    "    if i >= 1:\n",
    "      break\n",
    "    i += 1"
   ]
  },
  {
   "cell_type": "code",
   "execution_count": 20,
   "metadata": {},
   "outputs": [
    {
     "name": "stdout",
     "output_type": "stream",
     "text": [
      "['id', 'image_url', 'imdb_rating', 'imdb_votes', 'number_in_season', 'number_in_series', 'original_air_date', 'original_air_year', 'production_code', 'season', 'title', 'us_viewers_in_millions', 'video_url', 'views']\n",
      "['55', 'http://static-media.fxx.com/img/FX_Networks_-_FXX/534/47/ColonelHomer.jpg', '7.9', '1233.0', '20', '55', '1992-03-26', '1992', '8F19', '3', 'Colonel Homer', '25.5', 'http://www.simpsonsworld.com/video/272215619762', '46901.0']\n",
      "<class 'list'>\n"
     ]
    }
   ],
   "source": [
    "import csv\n",
    "\n",
    "with open('data\\simpsons_episodes.csv') as f:\n",
    "  filas = csv.reader(f)\n",
    "  encabezados = next(filas)\n",
    "  lineas = []\n",
    "  for fila in filas:\n",
    "    lineas.append(fila)\n",
    "\n",
    "print(encabezados)\n",
    "print(lineas[20])\n",
    "print(type(lineas[0]))"
   ]
  }
 ],
 "metadata": {
  "kernelspec": {
   "display_name": "Python 3",
   "language": "python",
   "name": "python3"
  },
  "language_info": {
   "codemirror_mode": {
    "name": "ipython",
    "version": 3
   },
   "file_extension": ".py",
   "mimetype": "text/x-python",
   "name": "python",
   "nbconvert_exporter": "python",
   "pygments_lexer": "ipython3",
   "version": "3.11.6"
  }
 },
 "nbformat": 4,
 "nbformat_minor": 2
}
