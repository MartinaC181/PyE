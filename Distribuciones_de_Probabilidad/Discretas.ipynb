{
 "cells": [
  {
   "cell_type": "code",
   "execution_count": 1,
   "metadata": {},
   "outputs": [],
   "source": [
    "import numpy as np\n",
    "from scipy.stats import norm, binom"
   ]
  },
  {
   "cell_type": "code",
   "execution_count": 9,
   "metadata": {},
   "outputs": [],
   "source": [
    "\n",
    "#Población total\n",
    "N = 0\n",
    "\n",
    "#Espacio muestral\n",
    "n = 0\n",
    "\n",
    "#Número de éxitos\n",
    "M = 0\n",
    "\n",
    "#Probabilidad de éxito\n",
    "p = 1\n",
    "\n",
    "#Probabilidad de fracaso\n",
    "q = 1 - p\n",
    "\n"
   ]
  },
  {
   "cell_type": "code",
   "execution_count": 2,
   "metadata": {},
   "outputs": [
    {
     "name": "stdout",
     "output_type": "stream",
     "text": [
      "P(X <= 1): 0.8413447460685429\n",
      "P(X = 3): 0.11718749999999999\n"
     ]
    }
   ],
   "source": [
    "# Crear un objeto para la distribución normal estándar (media=0, desviación estándar=1)\n",
    "rv = norm()\n",
    "\n",
    "# Probabilidad acumulada (F(x)) de que la variable aleatoria sea menor o igual a 1\n",
    "prob = rv.cdf(1)  # CDF(funcion de distribucion acumulada) de la distribución normal\n",
    "print(f\"P(X <= 1): {prob}\")\n",
    "\n",
    "# Generar 10 números aleatorios de una distribución normal\n",
    "random_values = rv.rvs(10)\n",
    "\n",
    "# Distribución binomial (10 ensayos, probabilidad de éxito 0.5)\n",
    "rv_binomial = binom(n=10, p=0.5)\n",
    "\n",
    "# Probabilidad de que haya exactamente 3 éxitos\n",
    "prob_binomial = rv_binomial.pmf(3)\n",
    "print(f\"P(X = 3): {prob_binomial}\")"
   ]
  },
  {
   "cell_type": "code",
   "execution_count": null,
   "metadata": {},
   "outputs": [],
   "source": [
    "#Distribuciones discretas\n",
    "    ##binom: Distribución binomial.\n",
    "    ##poisson: Distribución Poisson.\n",
    "    ##geom: Distribución geométrica.\n",
    "    ##hypergeom: Distribución hipergeométrica.\n",
    "    ##bernoulli: Distribución Bernoulli."
   ]
  },
  {
   "cell_type": "code",
   "execution_count": 6,
   "metadata": {},
   "outputs": [
    {
     "name": "stdout",
     "output_type": "stream",
     "text": [
      "Probabilidad P(X = 3): 0.11718749999999999\n",
      "Probabilidad acumulada P(X <= 3): 0.171875\n",
      "Números aleatorios generados: [8 7 4 2 7]\n"
     ]
    }
   ],
   "source": [
    "#Binomial\n",
    "\n",
    "# Crear un objeto para la distribución binomial con n=10 ensayos y p=0.5 probabilidad de éxito\n",
    "rv_binomial = binom(n=10, p=0.5)\n",
    "\n",
    "# Calcular la probabilidad de que haya exactamente 3 éxitos (PMF)\n",
    "prob_pmf = rv_binomial.pmf(3)  # P(X = 3)\n",
    "\n",
    "# Calcular la probabilidad acumulada hasta 3 éxitos (CDF)\n",
    "prob_cdf = rv_binomial.cdf(3)  # P(X <= 3)\n",
    "\n",
    "# Generar 5 números aleatorios de la distribución binomial\n",
    "random_values = rv_binomial.rvs(5)\n",
    "\n",
    "print(f\"Probabilidad P(X = 3): {prob_pmf}\")\n",
    "print(f\"Probabilidad acumulada P(X <= 3): {prob_cdf}\")\n",
    "print(f\"Números aleatorios generados: {random_values}\")"
   ]
  },
  {
   "cell_type": "code",
   "execution_count": null,
   "metadata": {},
   "outputs": [],
   "source": [
    "from scipy.stats import hypergeom\n",
    "#Hipergeométrica\n",
    "\n",
    "# Parámetros de la distribución hipergeométrica\n",
    "N = 20  # Tamaño de la población (total de bolas)\n",
    "M = 7   # Número de éxitos en la población (bolas rojas)\n",
    "n = 5   # Tamaño de la muestra (bolas extraídas)\n",
    "\n",
    "# Crear un objeto para la distribución hipergeométrica\n",
    "rv = hypergeom(N, M, n)\n",
    "\n",
    "# Calcular la probabilidad de obtener exactamente 3 bolas rojas\n",
    "m = 3\n",
    "probabilidad = rv.pmf(m)\n",
    "\n",
    "print(f\"La probabilidad de obtener exactamente {m} bolas rojas es: {probabilidad:.4f}\")\n",
    "\n",
    "# Probabilidad de obtener 3 o menos bolas rojas\n",
    "prob_acumulada = rv.cdf(3)\n",
    "print(f\"La probabilidad de obtener 3 o menos bolas rojas es: {prob_acumulada:.4f}\")\n",
    "\n",
    "\n",
    "\n"
   ]
  },
  {
   "cell_type": "code",
   "execution_count": null,
   "metadata": {},
   "outputs": [],
   "source": [
    "from scipy.stats import poisson\n",
    "#Poisson\n",
    "\n",
    "#Donde:\n",
    "    #X es el número de eventos.\n",
    "\n",
    "    #k es el número de eventos que quieres calcular.\n",
    "\n",
    "    #λ es la tasa promedio de ocurrencia de eventos en un intervalo dado.\n",
    "\n",
    "    #e es el número de Euler (≈2.71828)\n",
    "\n",
    "#Características \n",
    "    #La media y la varianza de una distribución de Poisson son ambas iguales a λ.\n",
    "    #Se usa para modelar eventos raros en un espacio o tiempo continuo, como el número\n",
    "     # de llamadas a una central telefónica en una hora, o el número de llegadas a una cola en un minuto.\n",
    "\n",
    "\n",
    "# Parámetro lambda (tasa promedio de llegadas por minuto)\n",
    "lambda_ = 3\n",
    "\n",
    "# Crear un objeto para la distribución de Poisson\n",
    "rv = poisson(mu=lambda_)\n",
    "\n",
    "# Calcular la probabilidad de que lleguen exactamente 5 autos\n",
    "k = 5\n",
    "probabilidad = rv.pmf(k)\n",
    "\n",
    "print(f\"La probabilidad de que lleguen exactamente {k} autos es: {probabilidad:.4f}\")\n",
    "\n",
    "prob_acumulada = rv.cdf(5)\n",
    "print(f\"La probabilidad de que lleguen 5 o menos autos es: {prob_acumulada:.4f}\")\n"
   ]
  }
 ],
 "metadata": {
  "kernelspec": {
   "display_name": "Python 3",
   "language": "python",
   "name": "python3"
  },
  "language_info": {
   "codemirror_mode": {
    "name": "ipython",
    "version": 3
   },
   "file_extension": ".py",
   "mimetype": "text/x-python",
   "name": "python",
   "nbconvert_exporter": "python",
   "pygments_lexer": "ipython3",
   "version": "3.11.6"
  }
 },
 "nbformat": 4,
 "nbformat_minor": 2
}
